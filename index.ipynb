{
 "cells": [
  {
   "cell_type": "markdown",
   "metadata": {},
   "source": [
    "# cluster-search\n",
    "\n",
    "> Package to optimise clustering using model and parameter search"
   ]
  },
  {
   "cell_type": "markdown",
   "metadata": {},
   "source": [
    "## Install"
   ]
  },
  {
   "cell_type": "markdown",
   "metadata": {},
   "source": [
    "You can install via pip with the following command:\n",
    "\n",
    "   `pip install cluster-search`"
   ]
  },
  {
   "cell_type": "markdown",
   "metadata": {},
   "source": [
    "## How to use"
   ]
  },
  {
   "cell_type": "markdown",
   "metadata": {},
   "source": [
    "Below is an example of using `grid_search` to perform grid search over some clustering models and model parameters to find the highest silhouette score when clustering a sample of the iris dataset:"
   ]
  },
  {
   "cell_type": "code",
   "execution_count": null,
   "metadata": {},
   "outputs": [],
   "source": [
    "from sklearn import datasets\n",
    "from cluster_search.cluster_grid_search import cluster, grid_search"
   ]
  },
  {
   "cell_type": "code",
   "execution_count": null,
   "metadata": {},
   "outputs": [
    {
     "data": {
      "text/html": [
       "<div>\n",
       "<style scoped>\n",
       "    .dataframe tbody tr th:only-of-type {\n",
       "        vertical-align: middle;\n",
       "    }\n",
       "\n",
       "    .dataframe tbody tr th {\n",
       "        vertical-align: top;\n",
       "    }\n",
       "\n",
       "    .dataframe thead th {\n",
       "        text-align: right;\n",
       "    }\n",
       "</style>\n",
       "<table border=\"1\" class=\"dataframe\">\n",
       "  <thead>\n",
       "    <tr style=\"text-align: right;\">\n",
       "      <th></th>\n",
       "      <th>sepal length (cm)</th>\n",
       "      <th>sepal width (cm)</th>\n",
       "      <th>petal length (cm)</th>\n",
       "      <th>petal width (cm)</th>\n",
       "    </tr>\n",
       "  </thead>\n",
       "  <tbody>\n",
       "    <tr>\n",
       "      <th>0</th>\n",
       "      <td>5.1</td>\n",
       "      <td>3.5</td>\n",
       "      <td>1.4</td>\n",
       "      <td>0.2</td>\n",
       "    </tr>\n",
       "    <tr>\n",
       "      <th>1</th>\n",
       "      <td>4.9</td>\n",
       "      <td>3.0</td>\n",
       "      <td>1.4</td>\n",
       "      <td>0.2</td>\n",
       "    </tr>\n",
       "    <tr>\n",
       "      <th>2</th>\n",
       "      <td>4.7</td>\n",
       "      <td>3.2</td>\n",
       "      <td>1.3</td>\n",
       "      <td>0.2</td>\n",
       "    </tr>\n",
       "    <tr>\n",
       "      <th>3</th>\n",
       "      <td>4.6</td>\n",
       "      <td>3.1</td>\n",
       "      <td>1.5</td>\n",
       "      <td>0.2</td>\n",
       "    </tr>\n",
       "    <tr>\n",
       "      <th>4</th>\n",
       "      <td>5.0</td>\n",
       "      <td>3.6</td>\n",
       "      <td>1.4</td>\n",
       "      <td>0.2</td>\n",
       "    </tr>\n",
       "  </tbody>\n",
       "</table>\n",
       "</div>"
      ],
      "text/plain": [
       "   sepal length (cm)  sepal width (cm)  petal length (cm)  petal width (cm)\n",
       "0                5.1               3.5                1.4               0.2\n",
       "1                4.9               3.0                1.4               0.2\n",
       "2                4.7               3.2                1.3               0.2\n",
       "3                4.6               3.1                1.5               0.2\n",
       "4                5.0               3.6                1.4               0.2"
      ]
     },
     "execution_count": null,
     "metadata": {},
     "output_type": "execute_result"
    }
   ],
   "source": [
    "from sklearn import datasets\n",
    "iris = datasets.load_iris(as_frame=True)\n",
    "X = iris.data\n",
    "X.head(5)"
   ]
  },
  {
   "cell_type": "code",
   "execution_count": null,
   "metadata": {},
   "outputs": [],
   "source": [
    "cluster_models = [\n",
    "    cluster.KMeans,\n",
    "    cluster.AffinityPropagation\n",
    "]\n",
    "\n",
    "model_kwargs_list = [\n",
    "    {\"n_clusters\": [2, 3, 4], \"init\": [\"k-means++\", \"random\"]},\n",
    "    {\"damping\": [0.6, 0.7, 0.8]}\n",
    "]"
   ]
  },
  {
   "cell_type": "code",
   "execution_count": null,
   "metadata": {},
   "outputs": [
    {
     "name": "stderr",
     "output_type": "stream",
     "text": [
      "0it [00:00, ?it/s]\n",
      "  0%|                                               | 0/6 [00:00<?, ?it/s]\u001b[A\n",
      "100%|███████████████████████████████████████| 6/6 [00:00<00:00, 57.06it/s]\u001b[A\n",
      "1it [00:00,  9.21it/s]\n",
      "100%|███████████████████████████████████████| 3/3 [00:00<00:00, 77.47it/s]\u001b[A\n",
      "2it [00:00, 13.37it/s]\n"
     ]
    },
    {
     "data": {
      "text/html": [
       "<style type=\"text/css\">\n",
       "#T_1d0b1_row0_col2, #T_1d0b1_row1_col2 {\n",
       "  background-color: lightgreen;\n",
       "}\n",
       "</style>\n",
       "<table id=\"T_1d0b1\">\n",
       "  <thead>\n",
       "    <tr>\n",
       "      <th class=\"blank level0\" >&nbsp;</th>\n",
       "      <th id=\"T_1d0b1_level0_col0\" class=\"col_heading level0 col0\" >cluster_model</th>\n",
       "      <th id=\"T_1d0b1_level0_col1\" class=\"col_heading level0 col1\" >model_params</th>\n",
       "      <th id=\"T_1d0b1_level0_col2\" class=\"col_heading level0 col2\" >avg_silhouette_score</th>\n",
       "    </tr>\n",
       "  </thead>\n",
       "  <tbody>\n",
       "    <tr>\n",
       "      <th id=\"T_1d0b1_level0_row0\" class=\"row_heading level0 row0\" >0</th>\n",
       "      <td id=\"T_1d0b1_row0_col0\" class=\"data row0 col0\" >KMeans</td>\n",
       "      <td id=\"T_1d0b1_row0_col1\" class=\"data row0 col1\" >{'init': 'k-means++', 'n_clusters': 2}</td>\n",
       "      <td id=\"T_1d0b1_row0_col2\" class=\"data row0 col2\" >0.681046</td>\n",
       "    </tr>\n",
       "    <tr>\n",
       "      <th id=\"T_1d0b1_level0_row1\" class=\"row_heading level0 row1\" >3</th>\n",
       "      <td id=\"T_1d0b1_row1_col0\" class=\"data row1 col0\" >KMeans</td>\n",
       "      <td id=\"T_1d0b1_row1_col1\" class=\"data row1 col1\" >{'init': 'random', 'n_clusters': 2}</td>\n",
       "      <td id=\"T_1d0b1_row1_col2\" class=\"data row1 col2\" >0.681046</td>\n",
       "    </tr>\n",
       "    <tr>\n",
       "      <th id=\"T_1d0b1_level0_row2\" class=\"row_heading level0 row2\" >1</th>\n",
       "      <td id=\"T_1d0b1_row2_col0\" class=\"data row2 col0\" >KMeans</td>\n",
       "      <td id=\"T_1d0b1_row2_col1\" class=\"data row2 col1\" >{'init': 'k-means++', 'n_clusters': 3}</td>\n",
       "      <td id=\"T_1d0b1_row2_col2\" class=\"data row2 col2\" >0.552819</td>\n",
       "    </tr>\n",
       "    <tr>\n",
       "      <th id=\"T_1d0b1_level0_row3\" class=\"row_heading level0 row3\" >4</th>\n",
       "      <td id=\"T_1d0b1_row3_col0\" class=\"data row3 col0\" >KMeans</td>\n",
       "      <td id=\"T_1d0b1_row3_col1\" class=\"data row3 col1\" >{'init': 'random', 'n_clusters': 3}</td>\n",
       "      <td id=\"T_1d0b1_row3_col2\" class=\"data row3 col2\" >0.552819</td>\n",
       "    </tr>\n",
       "    <tr>\n",
       "      <th id=\"T_1d0b1_level0_row4\" class=\"row_heading level0 row4\" >5</th>\n",
       "      <td id=\"T_1d0b1_row4_col0\" class=\"data row4 col0\" >KMeans</td>\n",
       "      <td id=\"T_1d0b1_row4_col1\" class=\"data row4 col1\" >{'init': 'random', 'n_clusters': 4}</td>\n",
       "      <td id=\"T_1d0b1_row4_col2\" class=\"data row4 col2\" >0.498051</td>\n",
       "    </tr>\n",
       "    <tr>\n",
       "      <th id=\"T_1d0b1_level0_row5\" class=\"row_heading level0 row5\" >2</th>\n",
       "      <td id=\"T_1d0b1_row5_col0\" class=\"data row5 col0\" >KMeans</td>\n",
       "      <td id=\"T_1d0b1_row5_col1\" class=\"data row5 col1\" >{'init': 'k-means++', 'n_clusters': 4}</td>\n",
       "      <td id=\"T_1d0b1_row5_col2\" class=\"data row5 col2\" >0.497455</td>\n",
       "    </tr>\n",
       "    <tr>\n",
       "      <th id=\"T_1d0b1_level0_row6\" class=\"row_heading level0 row6\" >7</th>\n",
       "      <td id=\"T_1d0b1_row6_col0\" class=\"data row6 col0\" >AffinityPropagation</td>\n",
       "      <td id=\"T_1d0b1_row6_col1\" class=\"data row6 col1\" >{'damping': 0.7}</td>\n",
       "      <td id=\"T_1d0b1_row6_col2\" class=\"data row6 col2\" >0.474338</td>\n",
       "    </tr>\n",
       "    <tr>\n",
       "      <th id=\"T_1d0b1_level0_row7\" class=\"row_heading level0 row7\" >8</th>\n",
       "      <td id=\"T_1d0b1_row7_col0\" class=\"data row7 col0\" >AffinityPropagation</td>\n",
       "      <td id=\"T_1d0b1_row7_col1\" class=\"data row7 col1\" >{'damping': 0.8}</td>\n",
       "      <td id=\"T_1d0b1_row7_col2\" class=\"data row7 col2\" >0.468801</td>\n",
       "    </tr>\n",
       "    <tr>\n",
       "      <th id=\"T_1d0b1_level0_row8\" class=\"row_heading level0 row8\" >6</th>\n",
       "      <td id=\"T_1d0b1_row8_col0\" class=\"data row8 col0\" >AffinityPropagation</td>\n",
       "      <td id=\"T_1d0b1_row8_col1\" class=\"data row8 col1\" >{'damping': 0.6}</td>\n",
       "      <td id=\"T_1d0b1_row8_col2\" class=\"data row8 col2\" >0.345462</td>\n",
       "    </tr>\n",
       "  </tbody>\n",
       "</table>\n"
      ],
      "text/plain": [
       "<pandas.io.formats.style.Styler at 0x148a9b640>"
      ]
     },
     "execution_count": null,
     "metadata": {},
     "output_type": "execute_result"
    }
   ],
   "source": [
    "grid_search(\n",
    "    data_to_cluster=X,\n",
    "    cluster_models=cluster_models,\n",
    "    model_kwargs_list=model_kwargs_list,\n",
    "    sort=True,\n",
    "    highlight=True\n",
    ")"
   ]
  }
 ],
 "metadata": {
  "kernelspec": {
   "display_name": "Python 3 (ipykernel)",
   "language": "python",
   "name": "python3"
  }
 },
 "nbformat": 4,
 "nbformat_minor": 4
}
